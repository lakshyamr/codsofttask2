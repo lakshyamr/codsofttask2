{
 "cells": [
  {
   "cell_type": "code",
   "execution_count": 1,
   "id": "43586d79",
   "metadata": {
    "_cell_guid": "b1076dfc-b9ad-4769-8c92-a6c4dae69d19",
    "_uuid": "8f2839f25d086af736a60e9eeb907d3b93b6e0e5",
    "execution": {
     "iopub.execute_input": "2023-12-18T13:27:24.145828Z",
     "iopub.status.busy": "2023-12-18T13:27:24.145091Z",
     "iopub.status.idle": "2023-12-18T13:27:24.837485Z",
     "shell.execute_reply": "2023-12-18T13:27:24.836869Z"
    },
    "papermill": {
     "duration": 0.701051,
     "end_time": "2023-12-18T13:27:24.839481",
     "exception": false,
     "start_time": "2023-12-18T13:27:24.138430",
     "status": "completed"
    },
    "tags": []
   },
   "outputs": [
    {
     "name": "stdout",
     "output_type": "stream",
     "text": [
      "/kaggle/input/spam-data-set/spamraw.csv\n"
     ]
    }
   ],
   "source": [
    "# This Python 3 environment comes with many helpful analytics libraries installed\n",
    "# It is defined by the kaggle/python Docker image: https://github.com/kaggle/docker-python\n",
    "# For example, here's several helpful packages to load\n",
    "\n",
    "import numpy as np # linear algebra\n",
    "import pandas as pd # data processing, CSV file I/O (e.g. pd.read_csv)\n",
    "\n",
    "# Input data files are available in the read-only \"../input/\" directory\n",
    "# For example, running this (by clicking run or pressing Shift+Enter) will list all files under the input directory\n",
    "\n",
    "import os\n",
    "for dirname, _, filenames in os.walk('/kaggle/input'):\n",
    "    for filename in filenames:\n",
    "        print(os.path.join(dirname, filename))\n",
    "\n",
    "# You can write up to 20GB to the current directory (/kaggle/working/) that gets preserved as output when you create a version using \"Save & Run All\" \n",
    "# You can also write temporary files to /kaggle/temp/, but they won't be saved outside of the current session"
   ]
  },
  {
   "cell_type": "markdown",
   "id": "8925b092",
   "metadata": {
    "papermill": {
     "duration": 0.003908,
     "end_time": "2023-12-18T13:27:24.847947",
     "exception": false,
     "start_time": "2023-12-18T13:27:24.844039",
     "status": "completed"
    },
    "tags": []
   },
   "source": [
    "Importing python libraries"
   ]
  },
  {
   "cell_type": "code",
   "execution_count": 2,
   "id": "10d10787",
   "metadata": {
    "execution": {
     "iopub.execute_input": "2023-12-18T13:27:24.857708Z",
     "iopub.status.busy": "2023-12-18T13:27:24.857147Z",
     "iopub.status.idle": "2023-12-18T13:27:26.255658Z",
     "shell.execute_reply": "2023-12-18T13:27:26.254631Z"
    },
    "papermill": {
     "duration": 1.405863,
     "end_time": "2023-12-18T13:27:26.257892",
     "exception": false,
     "start_time": "2023-12-18T13:27:24.852029",
     "status": "completed"
    },
    "tags": []
   },
   "outputs": [],
   "source": [
    "import numpy as np \n",
    "import pandas as pd \n",
    "import matplotlib.pyplot as plt\n",
    "import seaborn as sns\n",
    "from sklearn.model_selection import train_test_split\n",
    "from sklearn.feature_extraction.text import CountVectorizer\n",
    "from sklearn.metrics import accuracy_score\n",
    "from sklearn.metrics import classification_report,confusion_matrix\n",
    "from sklearn.naive_bayes import MultinomialNB"
   ]
  },
  {
   "cell_type": "markdown",
   "id": "e346dec4",
   "metadata": {
    "papermill": {
     "duration": 0.003943,
     "end_time": "2023-12-18T13:27:26.266429",
     "exception": false,
     "start_time": "2023-12-18T13:27:26.262486",
     "status": "completed"
    },
    "tags": []
   },
   "source": [
    "Importing Sms data"
   ]
  },
  {
   "cell_type": "code",
   "execution_count": 3,
   "id": "52b4dbac",
   "metadata": {
    "execution": {
     "iopub.execute_input": "2023-12-18T13:27:26.276193Z",
     "iopub.status.busy": "2023-12-18T13:27:26.275534Z",
     "iopub.status.idle": "2023-12-18T13:27:26.326436Z",
     "shell.execute_reply": "2023-12-18T13:27:26.325250Z"
    },
    "papermill": {
     "duration": 0.058347,
     "end_time": "2023-12-18T13:27:26.328804",
     "exception": false,
     "start_time": "2023-12-18T13:27:26.270457",
     "status": "completed"
    },
    "tags": []
   },
   "outputs": [
    {
     "data": {
      "text/html": [
       "<div>\n",
       "<style scoped>\n",
       "    .dataframe tbody tr th:only-of-type {\n",
       "        vertical-align: middle;\n",
       "    }\n",
       "\n",
       "    .dataframe tbody tr th {\n",
       "        vertical-align: top;\n",
       "    }\n",
       "\n",
       "    .dataframe thead th {\n",
       "        text-align: right;\n",
       "    }\n",
       "</style>\n",
       "<table border=\"1\" class=\"dataframe\">\n",
       "  <thead>\n",
       "    <tr style=\"text-align: right;\">\n",
       "      <th></th>\n",
       "      <th>type</th>\n",
       "      <th>text</th>\n",
       "    </tr>\n",
       "  </thead>\n",
       "  <tbody>\n",
       "    <tr>\n",
       "      <th>0</th>\n",
       "      <td>ham</td>\n",
       "      <td>Hope you are having a good week. Just checking in</td>\n",
       "    </tr>\n",
       "    <tr>\n",
       "      <th>1</th>\n",
       "      <td>ham</td>\n",
       "      <td>K..give back my thanks.</td>\n",
       "    </tr>\n",
       "    <tr>\n",
       "      <th>2</th>\n",
       "      <td>ham</td>\n",
       "      <td>Am also doing in cbe only. But have to pay.</td>\n",
       "    </tr>\n",
       "    <tr>\n",
       "      <th>3</th>\n",
       "      <td>spam</td>\n",
       "      <td>complimentary 4 STAR Ibiza Holiday or £10,000 ...</td>\n",
       "    </tr>\n",
       "    <tr>\n",
       "      <th>4</th>\n",
       "      <td>spam</td>\n",
       "      <td>okmail: Dear Dave this is your final notice to...</td>\n",
       "    </tr>\n",
       "  </tbody>\n",
       "</table>\n",
       "</div>"
      ],
      "text/plain": [
       "   type                                               text\n",
       "0   ham  Hope you are having a good week. Just checking in\n",
       "1   ham                            K..give back my thanks.\n",
       "2   ham        Am also doing in cbe only. But have to pay.\n",
       "3  spam  complimentary 4 STAR Ibiza Holiday or £10,000 ...\n",
       "4  spam  okmail: Dear Dave this is your final notice to..."
      ]
     },
     "execution_count": 3,
     "metadata": {},
     "output_type": "execute_result"
    }
   ],
   "source": [
    "df = pd.read_csv('/kaggle/input/spam-data-set/spamraw.csv')\n",
    "df.head()"
   ]
  },
  {
   "cell_type": "markdown",
   "id": "1dcc37a0",
   "metadata": {
    "papermill": {
     "duration": 0.004369,
     "end_time": "2023-12-18T13:27:26.337992",
     "exception": false,
     "start_time": "2023-12-18T13:27:26.333623",
     "status": "completed"
    },
    "tags": []
   },
   "source": [
    "Exploratory data analysis"
   ]
  },
  {
   "cell_type": "code",
   "execution_count": 4,
   "id": "8a1527a6",
   "metadata": {
    "execution": {
     "iopub.execute_input": "2023-12-18T13:27:26.348479Z",
     "iopub.status.busy": "2023-12-18T13:27:26.347672Z",
     "iopub.status.idle": "2023-12-18T13:27:26.369263Z",
     "shell.execute_reply": "2023-12-18T13:27:26.368388Z"
    },
    "papermill": {
     "duration": 0.028771,
     "end_time": "2023-12-18T13:27:26.371164",
     "exception": false,
     "start_time": "2023-12-18T13:27:26.342393",
     "status": "completed"
    },
    "tags": []
   },
   "outputs": [
    {
     "data": {
      "text/html": [
       "<div>\n",
       "<style scoped>\n",
       "    .dataframe tbody tr th:only-of-type {\n",
       "        vertical-align: middle;\n",
       "    }\n",
       "\n",
       "    .dataframe tbody tr th {\n",
       "        vertical-align: top;\n",
       "    }\n",
       "\n",
       "    .dataframe thead th {\n",
       "        text-align: right;\n",
       "    }\n",
       "</style>\n",
       "<table border=\"1\" class=\"dataframe\">\n",
       "  <thead>\n",
       "    <tr style=\"text-align: right;\">\n",
       "      <th></th>\n",
       "      <th>type</th>\n",
       "      <th>text</th>\n",
       "    </tr>\n",
       "  </thead>\n",
       "  <tbody>\n",
       "    <tr>\n",
       "      <th>count</th>\n",
       "      <td>5559</td>\n",
       "      <td>5559</td>\n",
       "    </tr>\n",
       "    <tr>\n",
       "      <th>unique</th>\n",
       "      <td>2</td>\n",
       "      <td>5156</td>\n",
       "    </tr>\n",
       "    <tr>\n",
       "      <th>top</th>\n",
       "      <td>ham</td>\n",
       "      <td>Sorry, I'll call later</td>\n",
       "    </tr>\n",
       "    <tr>\n",
       "      <th>freq</th>\n",
       "      <td>4812</td>\n",
       "      <td>30</td>\n",
       "    </tr>\n",
       "  </tbody>\n",
       "</table>\n",
       "</div>"
      ],
      "text/plain": [
       "        type                    text\n",
       "count   5559                    5559\n",
       "unique     2                    5156\n",
       "top      ham  Sorry, I'll call later\n",
       "freq    4812                      30"
      ]
     },
     "execution_count": 4,
     "metadata": {},
     "output_type": "execute_result"
    }
   ],
   "source": [
    "#Find count and unique messages count of all the messages\n",
    "df.describe()"
   ]
  },
  {
   "cell_type": "code",
   "execution_count": 5,
   "id": "eef7dda4",
   "metadata": {
    "execution": {
     "iopub.execute_input": "2023-12-18T13:27:26.382219Z",
     "iopub.status.busy": "2023-12-18T13:27:26.381847Z",
     "iopub.status.idle": "2023-12-18T13:27:26.393731Z",
     "shell.execute_reply": "2023-12-18T13:27:26.392818Z"
    },
    "papermill": {
     "duration": 0.019493,
     "end_time": "2023-12-18T13:27:26.395575",
     "exception": false,
     "start_time": "2023-12-18T13:27:26.376082",
     "status": "completed"
    },
    "tags": []
   },
   "outputs": [
    {
     "data": {
      "text/html": [
       "<div>\n",
       "<style scoped>\n",
       "    .dataframe tbody tr th:only-of-type {\n",
       "        vertical-align: middle;\n",
       "    }\n",
       "\n",
       "    .dataframe tbody tr th {\n",
       "        vertical-align: top;\n",
       "    }\n",
       "\n",
       "    .dataframe thead th {\n",
       "        text-align: right;\n",
       "    }\n",
       "</style>\n",
       "<table border=\"1\" class=\"dataframe\">\n",
       "  <thead>\n",
       "    <tr style=\"text-align: right;\">\n",
       "      <th></th>\n",
       "      <th>type</th>\n",
       "      <th>text</th>\n",
       "    </tr>\n",
       "  </thead>\n",
       "  <tbody>\n",
       "    <tr>\n",
       "      <th>3</th>\n",
       "      <td>spam</td>\n",
       "      <td>complimentary 4 STAR Ibiza Holiday or £10,000 ...</td>\n",
       "    </tr>\n",
       "    <tr>\n",
       "      <th>4</th>\n",
       "      <td>spam</td>\n",
       "      <td>okmail: Dear Dave this is your final notice to...</td>\n",
       "    </tr>\n",
       "    <tr>\n",
       "      <th>8</th>\n",
       "      <td>spam</td>\n",
       "      <td>Marvel Mobile Play the official Ultimate Spide...</td>\n",
       "    </tr>\n",
       "    <tr>\n",
       "      <th>19</th>\n",
       "      <td>spam</td>\n",
       "      <td>U can WIN £100 of Music Gift Vouchers every we...</td>\n",
       "    </tr>\n",
       "    <tr>\n",
       "      <th>34</th>\n",
       "      <td>spam</td>\n",
       "      <td>U have won a nokia 6230 plus a free digital ca...</td>\n",
       "    </tr>\n",
       "  </tbody>\n",
       "</table>\n",
       "</div>"
      ],
      "text/plain": [
       "    type                                               text\n",
       "3   spam  complimentary 4 STAR Ibiza Holiday or £10,000 ...\n",
       "4   spam  okmail: Dear Dave this is your final notice to...\n",
       "8   spam  Marvel Mobile Play the official Ultimate Spide...\n",
       "19  spam  U can WIN £100 of Music Gift Vouchers every we...\n",
       "34  spam  U have won a nokia 6230 plus a free digital ca..."
      ]
     },
     "execution_count": 5,
     "metadata": {},
     "output_type": "execute_result"
    }
   ],
   "source": [
    "#Extract SPAM messages\n",
    "spam_messages = df[df[\"type\"]==\"spam\"]\n",
    "spam_messages.head() #Display first 5 rows of SPAM messages"
   ]
  },
  {
   "cell_type": "code",
   "execution_count": 6,
   "id": "c5ed178f",
   "metadata": {
    "execution": {
     "iopub.execute_input": "2023-12-18T13:27:26.406633Z",
     "iopub.status.busy": "2023-12-18T13:27:26.406256Z",
     "iopub.status.idle": "2023-12-18T13:27:26.418175Z",
     "shell.execute_reply": "2023-12-18T13:27:26.417340Z"
    },
    "papermill": {
     "duration": 0.019491,
     "end_time": "2023-12-18T13:27:26.419946",
     "exception": false,
     "start_time": "2023-12-18T13:27:26.400455",
     "status": "completed"
    },
    "tags": []
   },
   "outputs": [
    {
     "data": {
      "text/html": [
       "<div>\n",
       "<style scoped>\n",
       "    .dataframe tbody tr th:only-of-type {\n",
       "        vertical-align: middle;\n",
       "    }\n",
       "\n",
       "    .dataframe tbody tr th {\n",
       "        vertical-align: top;\n",
       "    }\n",
       "\n",
       "    .dataframe thead th {\n",
       "        text-align: right;\n",
       "    }\n",
       "</style>\n",
       "<table border=\"1\" class=\"dataframe\">\n",
       "  <thead>\n",
       "    <tr style=\"text-align: right;\">\n",
       "      <th></th>\n",
       "      <th>type</th>\n",
       "      <th>text</th>\n",
       "    </tr>\n",
       "  </thead>\n",
       "  <tbody>\n",
       "    <tr>\n",
       "      <th>count</th>\n",
       "      <td>747</td>\n",
       "      <td>747</td>\n",
       "    </tr>\n",
       "    <tr>\n",
       "      <th>unique</th>\n",
       "      <td>1</td>\n",
       "      <td>653</td>\n",
       "    </tr>\n",
       "    <tr>\n",
       "      <th>top</th>\n",
       "      <td>spam</td>\n",
       "      <td>Please call our customer service representativ...</td>\n",
       "    </tr>\n",
       "    <tr>\n",
       "      <th>freq</th>\n",
       "      <td>747</td>\n",
       "      <td>4</td>\n",
       "    </tr>\n",
       "  </tbody>\n",
       "</table>\n",
       "</div>"
      ],
      "text/plain": [
       "        type                                               text\n",
       "count    747                                                747\n",
       "unique     1                                                653\n",
       "top     spam  Please call our customer service representativ...\n",
       "freq     747                                                  4"
      ]
     },
     "execution_count": 6,
     "metadata": {},
     "output_type": "execute_result"
    }
   ],
   "source": [
    "#Find count and unique messages count of SPAM messages.\n",
    "spam_messages.describe()"
   ]
  },
  {
   "cell_type": "code",
   "execution_count": 7,
   "id": "ee642786",
   "metadata": {
    "execution": {
     "iopub.execute_input": "2023-12-18T13:27:26.430885Z",
     "iopub.status.busy": "2023-12-18T13:27:26.430543Z",
     "iopub.status.idle": "2023-12-18T13:27:26.622089Z",
     "shell.execute_reply": "2023-12-18T13:27:26.621245Z"
    },
    "papermill": {
     "duration": 0.199375,
     "end_time": "2023-12-18T13:27:26.623980",
     "exception": false,
     "start_time": "2023-12-18T13:27:26.424605",
     "status": "completed"
    },
    "tags": []
   },
   "outputs": [
    {
     "data": {
      "image/png": "[encoded data removed]",
      "text/plain": [
       "<Figure size 640x480 with 1 Axes>"
      ]
     },
     "metadata": {},
     "output_type": "display_data"
    }
   ],
   "source": [
    "#Plot the counts of HAM (non SPAM) vs SPAM\n",
    "sns.countplot(data = df, x= df[\"type\"]).set_title(\"Amount of spam and no-spam messages\")\n",
    "plt.show()"
   ]
  },
  {
   "cell_type": "markdown",
   "id": "1e016c30",
   "metadata": {
    "papermill": {
     "duration": 0.004846,
     "end_time": "2023-12-18T13:27:26.634034",
     "exception": false,
     "start_time": "2023-12-18T13:27:26.629188",
     "status": "completed"
    },
    "tags": []
   },
   "source": [
    "Splitting the SMS data into Test and Train data"
   ]
  },
  {
   "cell_type": "code",
   "execution_count": 8,
   "id": "97feaf89",
   "metadata": {
    "execution": {
     "iopub.execute_input": "2023-12-18T13:27:26.645705Z",
     "iopub.status.busy": "2023-12-18T13:27:26.644842Z",
     "iopub.status.idle": "2023-12-18T13:27:26.652267Z",
     "shell.execute_reply": "2023-12-18T13:27:26.651606Z"
    },
    "papermill": {
     "duration": 0.014991,
     "end_time": "2023-12-18T13:27:26.653895",
     "exception": false,
     "start_time": "2023-12-18T13:27:26.638904",
     "status": "completed"
    },
    "tags": []
   },
   "outputs": [
    {
     "name": "stdout",
     "output_type": "stream",
     "text": [
      "data_train, labels_train :  (4447,) (4447,)\n",
      "data_test, labels_test:  (1112,) (1112,)\n"
     ]
    }
   ],
   "source": [
    "data_train, data_test, labels_train, labels_test = train_test_split(df.text,df.type,test_size=0.2,random_state=0) \n",
    "print(\"data_train, labels_train : \",data_train.shape, labels_train.shape)\n",
    "print(\"data_test, labels_test: \",data_test.shape, labels_test.shape)"
   ]
  },
  {
   "cell_type": "markdown",
   "id": "44450fc3",
   "metadata": {
    "papermill": {
     "duration": 0.004816,
     "end_time": "2023-12-18T13:27:26.663887",
     "exception": false,
     "start_time": "2023-12-18T13:27:26.659071",
     "status": "completed"
    },
    "tags": []
   },
   "source": [
    "Extraction & CountVectorize\n",
    "\n",
    "The CountVectorizer provides a simple way to both tokenize a collection of text documents and build a vocabulary of known words, but also to encode new documents using that vocabulary."
   ]
  },
  {
   "cell_type": "code",
   "execution_count": 9,
   "id": "cb227ca2",
   "metadata": {
    "execution": {
     "iopub.execute_input": "2023-12-18T13:27:26.676599Z",
     "iopub.status.busy": "2023-12-18T13:27:26.674980Z",
     "iopub.status.idle": "2023-12-18T13:27:26.765531Z",
     "shell.execute_reply": "2023-12-18T13:27:26.764630Z"
    },
    "papermill": {
     "duration": 0.099029,
     "end_time": "2023-12-18T13:27:26.767915",
     "exception": false,
     "start_time": "2023-12-18T13:27:26.668886",
     "status": "completed"
    },
    "tags": []
   },
   "outputs": [],
   "source": [
    "vectorizer = CountVectorizer()\n",
    "#fit & transform\n",
    "# fit: build dict (i.e. word->wordID)  \n",
    "# transform: convert document (i.e. each line in the file) to word vector \n",
    "data_train_count = vectorizer.fit_transform(data_train)\n",
    "data_test_count  = vectorizer.transform(data_test)"
   ]
  },
  {
   "cell_type": "markdown",
   "id": "7e5fc66c",
   "metadata": {
    "papermill": {
     "duration": 0.005159,
     "end_time": "2023-12-18T13:27:26.778605",
     "exception": false,
     "start_time": "2023-12-18T13:27:26.773446",
     "status": "completed"
    },
    "tags": []
   },
   "source": [
    "Modelling & training\n",
    "\n",
    "Multinomial Naive Bayes is a specialized version of Naive Bayes that is designed more for text documents. Whereas simple naive Bayes would model a document as the presence and absence of particular words, multinomial naive bayes explicitly models the word counts and adjusts the underlying calculations to deal with in.\n",
    "\n",
    "It is a classification technique based on Bayes' Theorem with an assumption of independence among predictors. In simple terms, a Naive Bayes classifier assumes that the presence of a particular feature in a class is unrelated to the presence of any other feature."
   ]
  },
  {
   "cell_type": "code",
   "execution_count": 10,
   "id": "4e933551",
   "metadata": {
    "execution": {
     "iopub.execute_input": "2023-12-18T13:27:26.791346Z",
     "iopub.status.busy": "2023-12-18T13:27:26.790410Z",
     "iopub.status.idle": "2023-12-18T13:27:26.813118Z",
     "shell.execute_reply": "2023-12-18T13:27:26.811948Z"
    },
    "papermill": {
     "duration": 0.031599,
     "end_time": "2023-12-18T13:27:26.815477",
     "exception": false,
     "start_time": "2023-12-18T13:27:26.783878",
     "status": "completed"
    },
    "tags": []
   },
   "outputs": [
    {
     "data": {
      "text/plain": [
       "array(['ham', 'ham', 'ham', ..., 'ham', 'ham', 'ham'], dtype='<U4')"
      ]
     },
     "execution_count": 10,
     "metadata": {},
     "output_type": "execute_result"
    }
   ],
   "source": [
    "clf = MultinomialNB()\n",
    "clf.fit(data_train_count, labels_train)\n",
    "predictions = clf.predict(data_test_count)\n",
    "predictions"
   ]
  },
  {
   "cell_type": "markdown",
   "id": "726c14dc",
   "metadata": {
    "papermill": {
     "duration": 0.00496,
     "end_time": "2023-12-18T13:27:26.826914",
     "exception": false,
     "start_time": "2023-12-18T13:27:26.821954",
     "status": "completed"
    },
    "tags": []
   },
   "source": [
    "Results and Accuracy"
   ]
  },
  {
   "cell_type": "code",
   "execution_count": 11,
   "id": "70129ab3",
   "metadata": {
    "execution": {
     "iopub.execute_input": "2023-12-18T13:27:26.839161Z",
     "iopub.status.busy": "2023-12-18T13:27:26.838547Z",
     "iopub.status.idle": "2023-12-18T13:27:26.844916Z",
     "shell.execute_reply": "2023-12-18T13:27:26.844288Z"
    },
    "papermill": {
     "duration": 0.014784,
     "end_time": "2023-12-18T13:27:26.846903",
     "exception": false,
     "start_time": "2023-12-18T13:27:26.832119",
     "status": "completed"
    },
    "tags": []
   },
   "outputs": [
    {
     "name": "stdout",
     "output_type": "stream",
     "text": [
      "accuracy_score :  0.9901079136690647\n"
     ]
    }
   ],
   "source": [
    "print (\"accuracy_score : \", accuracy_score(labels_test, predictions))"
   ]
  },
  {
   "cell_type": "markdown",
   "id": "f3f4d01b",
   "metadata": {
    "papermill": {
     "duration": 0.005205,
     "end_time": "2023-12-18T13:27:26.857974",
     "exception": false,
     "start_time": "2023-12-18T13:27:26.852769",
     "status": "completed"
    },
    "tags": []
   },
   "source": [
    "Confusion Matrix\n",
    "\n",
    "A confusion matrix is a table that is often used to describe the performance of a classification model (or “classifier”) on a set of test data for which the true values are known. It allows the visualization of the performance of an algorithm."
   ]
  },
  {
   "cell_type": "code",
   "execution_count": 12,
   "id": "397fe75a",
   "metadata": {
    "execution": {
     "iopub.execute_input": "2023-12-18T13:27:26.870665Z",
     "iopub.status.busy": "2023-12-18T13:27:26.870339Z",
     "iopub.status.idle": "2023-12-18T13:27:26.880107Z",
     "shell.execute_reply": "2023-12-18T13:27:26.878964Z"
    },
    "papermill": {
     "duration": 0.019061,
     "end_time": "2023-12-18T13:27:26.882466",
     "exception": false,
     "start_time": "2023-12-18T13:27:26.863405",
     "status": "completed"
    },
    "tags": []
   },
   "outputs": [
    {
     "name": "stdout",
     "output_type": "stream",
     "text": [
      "confusion_matrix : \n",
      " [[979   0]\n",
      " [ 11 122]]\n"
     ]
    }
   ],
   "source": [
    "print (\"confusion_matrix : \\n\", confusion_matrix(labels_test, predictions))"
   ]
  },
  {
   "cell_type": "code",
   "execution_count": 13,
   "id": "af676fde",
   "metadata": {
    "execution": {
     "iopub.execute_input": "2023-12-18T13:27:26.895533Z",
     "iopub.status.busy": "2023-12-18T13:27:26.894884Z",
     "iopub.status.idle": "2023-12-18T13:27:26.924724Z",
     "shell.execute_reply": "2023-12-18T13:27:26.923809Z"
    },
    "papermill": {
     "duration": 0.038591,
     "end_time": "2023-12-18T13:27:26.926872",
     "exception": false,
     "start_time": "2023-12-18T13:27:26.888281",
     "status": "completed"
    },
    "tags": []
   },
   "outputs": [
    {
     "name": "stdout",
     "output_type": "stream",
     "text": [
      "              precision    recall  f1-score   support\n",
      "\n",
      "         ham       0.99      1.00      0.99       979\n",
      "        spam       1.00      0.92      0.96       133\n",
      "\n",
      "    accuracy                           0.99      1112\n",
      "   macro avg       0.99      0.96      0.98      1112\n",
      "weighted avg       0.99      0.99      0.99      1112\n",
      "\n"
     ]
    }
   ],
   "source": [
    "print (classification_report(labels_test, predictions))"
   ]
  }
 ],
 "metadata": {
  "kaggle": {
   "accelerator": "none",
   "dataSources": [
    {
     "datasetId": 4186218,
     "sourceId": 7230241,
     "sourceType": "datasetVersion"
    }
   ],
   "dockerImageVersionId": 30626,
   "isGpuEnabled": false,
   "isInternetEnabled": true,
   "language": "python",
   "sourceType": "notebook"
  },
  "kernelspec": {
   "display_name": "Python 3",
   "language": "python",
   "name": "python3"
  },
  "language_info": {
   "codemirror_mode": {
    "name": "ipython",
    "version": 3
   },
   "file_extension": ".py",
   "mimetype": "text/x-python",
   "name": "python",
   "nbconvert_exporter": "python",
   "pygments_lexer": "ipython3",
   "version": "3.10.12"
  },
  "papermill": {
   "default_parameters": {},
   "duration": 6.592906,
   "end_time": "2023-12-18T13:27:27.451526",
   "environment_variables": {},
   "exception": null,
   "input_path": "__notebook__.ipynb",
   "output_path": "__notebook__.ipynb",
   "parameters": {},
   "start_time": "2023-12-18T13:27:20.858620",
   "version": "2.4.0"
  }
 },
 "nbformat": 4,
 "nbformat_minor": 5
}
